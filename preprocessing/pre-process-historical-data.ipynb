{
 "cells": [
  {
   "cell_type": "code",
   "execution_count": 1,
   "metadata": {},
   "outputs": [],
   "source": [
    "DATA_PATH_FILE = \"/home/choice/Desktop/insurance-fullstack/data/export_policy_1722337996.xlsx\""
   ]
  },
  {
   "cell_type": "code",
   "execution_count": 2,
   "metadata": {},
   "outputs": [],
   "source": [
    "import pandas as pd\n",
    "\n",
    "df = pd.read_excel(DATA_PATH_FILE)"
   ]
  },
  {
   "cell_type": "code",
   "execution_count": 4,
   "metadata": {},
   "outputs": [
    {
     "data": {
      "text/plain": [
       "Index(['Policy Id', 'Enquiry Id', 'Customer Name', 'Customer Industry',\n",
       "       'Sub Service Type', 'Actual Sub Service', 'Status',\n",
       "       'Name of Insurance Company', 'Policy Number', 'Application Number',\n",
       "       'Policy Type', 'Policy Issued Date', 'Policy Start Date',\n",
       "       'Policy End Date', 'Policy Expiry Date', 'od_policy_start_date',\n",
       "       'od_policy_end_date', 'tp_policy_start_date', 'tp_policy_end_date',\n",
       "       'Next Premium Date', 'Premium Paid On', 'Premium Frequency',\n",
       "       'Sum Insured', 'Personal Accident', 'Third Party Premium', 'OD Premium',\n",
       "       'Base Premium', 'Addon', 'Net Premium', 'Total Premium', 'Tax',\n",
       "       'Policy Holder Name', 'Product Name', 'Product Category',\n",
       "       'Policy Tenure', 'Premium Paying Term', 'Eligible for Renewal?',\n",
       "       'Registration Number', 'Year Of Registration', 'Vehical Type', 'NCB',\n",
       "       'CC', 'Petrol Type', 'Discount', 'MT', 'Model', 'Make', 'RTO Location',\n",
       "       'Vehical Category', 'Trace ID', 'Quote Type', 'Created At Date',\n",
       "       'Updated At Date', 'CBA Code', 'CBA Name', 'CBA Commission',\n",
       "       'Referral 1 CBA Code', 'Referral 1 Name', 'Referral 1 Commission',\n",
       "       'Referral 2 CBA Code', 'Referral 2 Name', 'Referral 2 Commission',\n",
       "       'Referral 3 CBA Code', 'Referral 3 Name', 'Referral 3 Commission',\n",
       "       'Referral 4 CBA Code', 'Referral 4 Name', 'Referral 4 Commission',\n",
       "       'Referral 5 CBA Code', 'Referral 5 Name', 'Referral 5 Commission',\n",
       "       'Projected Revenue', 'System Projected Revenue', 'Lead Source',\n",
       "       'Policy Source', 'Vendor Type', 'Previous Policy Expiry', 'Trace Id'],\n",
       "      dtype='object')"
      ]
     },
     "execution_count": 4,
     "metadata": {},
     "output_type": "execute_result"
    }
   ],
   "source": [
    "df.columns"
   ]
  },
  {
   "cell_type": "code",
   "execution_count": 5,
   "metadata": {},
   "outputs": [],
   "source": [
    "df = df[['Policy Id', 'Name of Insurance Company', 'Third Party Premium', 'OD Premium', 'Net Premium', 'Total Premium', 'Tax', 'Product Name', 'Product Category', 'Registration Number', 'Vehical Type', 'CC', 'Petrol Type', 'Model', 'Make', 'RTO Location', 'Vehical Category']]"
   ]
  },
  {
   "cell_type": "code",
   "execution_count": 6,
   "metadata": {},
   "outputs": [
    {
     "data": {
      "text/html": [
       "<div>\n",
       "<style scoped>\n",
       "    .dataframe tbody tr th:only-of-type {\n",
       "        vertical-align: middle;\n",
       "    }\n",
       "\n",
       "    .dataframe tbody tr th {\n",
       "        vertical-align: top;\n",
       "    }\n",
       "\n",
       "    .dataframe thead th {\n",
       "        text-align: right;\n",
       "    }\n",
       "</style>\n",
       "<table border=\"1\" class=\"dataframe\">\n",
       "  <thead>\n",
       "    <tr style=\"text-align: right;\">\n",
       "      <th></th>\n",
       "      <th>Policy Id</th>\n",
       "      <th>Name of Insurance Company</th>\n",
       "      <th>Third Party Premium</th>\n",
       "      <th>OD Premium</th>\n",
       "      <th>Net Premium</th>\n",
       "      <th>Total Premium</th>\n",
       "      <th>Tax</th>\n",
       "      <th>Product Name</th>\n",
       "      <th>Product Category</th>\n",
       "      <th>Registration Number</th>\n",
       "      <th>Vehical Type</th>\n",
       "      <th>CC</th>\n",
       "      <th>Petrol Type</th>\n",
       "      <th>Model</th>\n",
       "      <th>Make</th>\n",
       "      <th>RTO Location</th>\n",
       "      <th>Vehical Category</th>\n",
       "    </tr>\n",
       "  </thead>\n",
       "  <tbody>\n",
       "    <tr>\n",
       "      <th>0</th>\n",
       "      <td>136838</td>\n",
       "      <td>The New India Assurance Co. Ltd.</td>\n",
       "      <td>714.0</td>\n",
       "      <td>0.0</td>\n",
       "      <td>714.0</td>\n",
       "      <td>843.0</td>\n",
       "      <td>129.0</td>\n",
       "      <td>Two Wheeler Liability Only Policy</td>\n",
       "      <td>Two Wheelers Liability Only Policy</td>\n",
       "      <td>KA08Q8186</td>\n",
       "      <td>NaN</td>\n",
       "      <td>97.0</td>\n",
       "      <td>Petrol</td>\n",
       "      <td>SPLENDOR PLUS</td>\n",
       "      <td>HERO HONDA</td>\n",
       "      <td>Kolar</td>\n",
       "      <td>Bike</td>\n",
       "    </tr>\n",
       "    <tr>\n",
       "      <th>1</th>\n",
       "      <td>136847</td>\n",
       "      <td>The New India Assurance Co. Ltd.</td>\n",
       "      <td>714.0</td>\n",
       "      <td>112.0</td>\n",
       "      <td>1101.0</td>\n",
       "      <td>1299.0</td>\n",
       "      <td>198.0</td>\n",
       "      <td>Two Wheeler Package Policy</td>\n",
       "      <td>Two Wheelers Package Policy</td>\n",
       "      <td>KA06EH4618</td>\n",
       "      <td>NaN</td>\n",
       "      <td>97.0</td>\n",
       "      <td>Petrol</td>\n",
       "      <td>SPLENDOR PRO</td>\n",
       "      <td>HERO HONDA</td>\n",
       "      <td>Tumkur</td>\n",
       "      <td>Bike</td>\n",
       "    </tr>\n",
       "    <tr>\n",
       "      <th>2</th>\n",
       "      <td>136848</td>\n",
       "      <td>Shriram General Insurance Co. Ltd.</td>\n",
       "      <td>5833.0</td>\n",
       "      <td>288.0</td>\n",
       "      <td>6121.0</td>\n",
       "      <td>7223.0</td>\n",
       "      <td>1102.0</td>\n",
       "      <td>PCCV-3-WHEELERS-CARRYING</td>\n",
       "      <td>3W PCV Package Policy</td>\n",
       "      <td>TN12AC5616</td>\n",
       "      <td>3W PCV</td>\n",
       "      <td>236.0</td>\n",
       "      <td>LPG</td>\n",
       "      <td>MAXIMA Z</td>\n",
       "      <td>BAJAJ AUTO</td>\n",
       "      <td>Kanchipuram</td>\n",
       "      <td>Commercial</td>\n",
       "    </tr>\n",
       "    <tr>\n",
       "      <th>3</th>\n",
       "      <td>136853</td>\n",
       "      <td>The New India Assurance Co. Ltd.</td>\n",
       "      <td>714.0</td>\n",
       "      <td>107.0</td>\n",
       "      <td>1096.0</td>\n",
       "      <td>1293.0</td>\n",
       "      <td>197.0</td>\n",
       "      <td>Two Wheeler Package Policy</td>\n",
       "      <td>Two Wheelers Package Policy</td>\n",
       "      <td>KA25EV9967</td>\n",
       "      <td>NaN</td>\n",
       "      <td>97.0</td>\n",
       "      <td>Petrol</td>\n",
       "      <td>SPLENDOR PLUS</td>\n",
       "      <td>HERO</td>\n",
       "      <td>Dharwad</td>\n",
       "      <td>Bike</td>\n",
       "    </tr>\n",
       "    <tr>\n",
       "      <th>4</th>\n",
       "      <td>136855</td>\n",
       "      <td>Tata AIG General Insurance Co. Ltd.</td>\n",
       "      <td>16149.0</td>\n",
       "      <td>875.0</td>\n",
       "      <td>17399.0</td>\n",
       "      <td>19569.0</td>\n",
       "      <td>2170.0</td>\n",
       "      <td>Package - GCV Package</td>\n",
       "      <td>4 Wheelers GCV Package Policy</td>\n",
       "      <td>TN50F9966</td>\n",
       "      <td>4W GCV</td>\n",
       "      <td>702.0</td>\n",
       "      <td>Diesel</td>\n",
       "      <td>ACE</td>\n",
       "      <td>TATA</td>\n",
       "      <td>Tiruvarur</td>\n",
       "      <td>Commercial</td>\n",
       "    </tr>\n",
       "  </tbody>\n",
       "</table>\n",
       "</div>"
      ],
      "text/plain": [
       "   Policy Id            Name of Insurance Company  Third Party Premium  \\\n",
       "0     136838     The New India Assurance Co. Ltd.                714.0   \n",
       "1     136847     The New India Assurance Co. Ltd.                714.0   \n",
       "2     136848   Shriram General Insurance Co. Ltd.               5833.0   \n",
       "3     136853     The New India Assurance Co. Ltd.                714.0   \n",
       "4     136855  Tata AIG General Insurance Co. Ltd.              16149.0   \n",
       "\n",
       "   OD Premium  Net Premium  Total Premium     Tax  \\\n",
       "0         0.0        714.0          843.0   129.0   \n",
       "1       112.0       1101.0         1299.0   198.0   \n",
       "2       288.0       6121.0         7223.0  1102.0   \n",
       "3       107.0       1096.0         1293.0   197.0   \n",
       "4       875.0      17399.0        19569.0  2170.0   \n",
       "\n",
       "                        Product Name                    Product Category  \\\n",
       "0  Two Wheeler Liability Only Policy  Two Wheelers Liability Only Policy   \n",
       "1         Two Wheeler Package Policy         Two Wheelers Package Policy   \n",
       "2           PCCV-3-WHEELERS-CARRYING               3W PCV Package Policy   \n",
       "3         Two Wheeler Package Policy         Two Wheelers Package Policy   \n",
       "4              Package - GCV Package       4 Wheelers GCV Package Policy   \n",
       "\n",
       "  Registration Number Vehical Type     CC Petrol Type          Model  \\\n",
       "0           KA08Q8186          NaN   97.0      Petrol  SPLENDOR PLUS   \n",
       "1          KA06EH4618          NaN   97.0      Petrol   SPLENDOR PRO   \n",
       "2          TN12AC5616       3W PCV  236.0         LPG       MAXIMA Z   \n",
       "3          KA25EV9967          NaN   97.0      Petrol  SPLENDOR PLUS   \n",
       "4           TN50F9966       4W GCV  702.0      Diesel            ACE   \n",
       "\n",
       "         Make RTO Location Vehical Category  \n",
       "0  HERO HONDA        Kolar             Bike  \n",
       "1  HERO HONDA       Tumkur             Bike  \n",
       "2  BAJAJ AUTO  Kanchipuram       Commercial  \n",
       "3        HERO      Dharwad             Bike  \n",
       "4        TATA    Tiruvarur       Commercial  "
      ]
     },
     "execution_count": 6,
     "metadata": {},
     "output_type": "execute_result"
    }
   ],
   "source": [
    "df.head(5)"
   ]
  },
  {
   "cell_type": "code",
   "execution_count": 7,
   "metadata": {},
   "outputs": [],
   "source": [
    "sbi_df = df[df['Name of Insurance Company'] == \"SBI General Insurance\"]"
   ]
  },
  {
   "cell_type": "code",
   "execution_count": 9,
   "metadata": {},
   "outputs": [],
   "source": [
    "sbi_df.to_csv(\"SBI historical data.csv\")"
   ]
  },
  {
   "cell_type": "code",
   "execution_count": null,
   "metadata": {},
   "outputs": [],
   "source": [
    "``"
   ]
  }
 ],
 "metadata": {
  "kernelspec": {
   "display_name": "Python 3",
   "language": "python",
   "name": "python3"
  },
  "language_info": {
   "codemirror_mode": {
    "name": "ipython",
    "version": 3
   },
   "file_extension": ".py",
   "mimetype": "text/x-python",
   "name": "python",
   "nbconvert_exporter": "python",
   "pygments_lexer": "ipython3",
   "version": "3.10.12"
  }
 },
 "nbformat": 4,
 "nbformat_minor": 2
}
